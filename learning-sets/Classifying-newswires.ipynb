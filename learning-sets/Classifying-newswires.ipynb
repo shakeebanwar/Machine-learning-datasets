{
 "cells": [
  {
   "cell_type": "markdown",
   "metadata": {},
   "source": [
    "# Loading the Reuters dataset"
   ]
  },
  {
   "cell_type": "code",
   "execution_count": 1,
   "metadata": {},
   "outputs": [
    {
     "name": "stderr",
     "output_type": "stream",
     "text": [
      "Using TensorFlow backend.\n"
     ]
    },
    {
     "name": "stdout",
     "output_type": "stream",
     "text": [
      "Downloading data from https://s3.amazonaws.com/text-datasets/reuters.npz\n",
      "2113536/2110848 [==============================] - 16s 7us/step\n"
     ]
    }
   ],
   "source": [
    "from keras.datasets import reuters\n",
    "(train_data, train_labels), (test_data, test_labels) = reuters.load_data(\n",
    "num_words=10000)"
   ]
  },
  {
   "cell_type": "code",
   "execution_count": 2,
   "metadata": {},
   "outputs": [
    {
     "data": {
      "text/plain": [
       "8982"
      ]
     },
     "execution_count": 2,
     "metadata": {},
     "output_type": "execute_result"
    }
   ],
   "source": [
    "len(train_data)"
   ]
  },
  {
   "cell_type": "code",
   "execution_count": 3,
   "metadata": {},
   "outputs": [
    {
     "data": {
      "text/plain": [
       "2246"
      ]
     },
     "execution_count": 3,
     "metadata": {},
     "output_type": "execute_result"
    }
   ],
   "source": [
    "len(test_data)"
   ]
  },
  {
   "cell_type": "code",
   "execution_count": 4,
   "metadata": {},
   "outputs": [
    {
     "data": {
      "text/plain": [
       "[1,\n",
       " 245,\n",
       " 273,\n",
       " 207,\n",
       " 156,\n",
       " 53,\n",
       " 74,\n",
       " 160,\n",
       " 26,\n",
       " 14,\n",
       " 46,\n",
       " 296,\n",
       " 26,\n",
       " 39,\n",
       " 74,\n",
       " 2979,\n",
       " 3554,\n",
       " 14,\n",
       " 46,\n",
       " 4689,\n",
       " 4329,\n",
       " 86,\n",
       " 61,\n",
       " 3499,\n",
       " 4795,\n",
       " 14,\n",
       " 61,\n",
       " 451,\n",
       " 4329,\n",
       " 17,\n",
       " 12]"
      ]
     },
     "execution_count": 4,
     "metadata": {},
     "output_type": "execute_result"
    }
   ],
   "source": [
    "train_data[10]"
   ]
  },
  {
   "cell_type": "markdown",
   "metadata": {},
   "source": [
    "# Decoding newswires back to text"
   ]
  },
  {
   "cell_type": "code",
   "execution_count": 6,
   "metadata": {},
   "outputs": [
    {
     "name": "stdout",
     "output_type": "stream",
     "text": [
      "Downloading data from https://s3.amazonaws.com/text-datasets/reuters_word_index.json\n",
      "557056/550378 [==============================] - 3s 5us/step\n"
     ]
    }
   ],
   "source": [
    "word_index = reuters.get_word_index()\n",
    "reverse_word_index = dict([(value, key) for (key, value) in word_index.items()])\n",
    "decoded_newswire = ' '.join([reverse_word_index.get(i - 3, '?') for i in\n",
    "train_data[0]])"
   ]
  },
  {
   "cell_type": "code",
   "execution_count": 7,
   "metadata": {},
   "outputs": [
    {
     "data": {
      "text/plain": [
       "'? ? ? said as a result of its december acquisition of space co it expects earnings per share in 1987 of 1 15 to 1 30 dlrs per share up from 70 cts in 1986 the company said pretax net should rise to nine to 10 mln dlrs from six mln dlrs in 1986 and rental operation revenues to 19 to 22 mln dlrs from 12 5 mln dlrs it said cash flow per share this year should be 2 50 to three dlrs reuter 3'"
      ]
     },
     "execution_count": 7,
     "metadata": {},
     "output_type": "execute_result"
    }
   ],
   "source": [
    "decoded_newswire"
   ]
  },
  {
   "cell_type": "code",
   "execution_count": 10,
   "metadata": {},
   "outputs": [
    {
     "data": {
      "text/plain": [
       "3"
      ]
     },
     "execution_count": 10,
     "metadata": {},
     "output_type": "execute_result"
    }
   ],
   "source": [
    "train_labels[0]"
   ]
  },
  {
   "cell_type": "markdown",
   "metadata": {},
   "source": [
    "# Encoding the data"
   ]
  },
  {
   "cell_type": "code",
   "execution_count": 16,
   "metadata": {},
   "outputs": [],
   "source": [
    "import numpy as np\n",
    "def vectorize_sequences(sequences, dimension=10000):\n",
    "    results = np.zeros((len(sequences), dimension))\n",
    "    for i, sequence in enumerate(sequences):\n",
    "        results[i, sequence] = 1.\n",
    "    return results\n",
    "x_train = vectorize_sequences(train_data)\n",
    "x_test = vectorize_sequences(test_data)"
   ]
  },
  {
   "cell_type": "code",
   "execution_count": 36,
   "metadata": {},
   "outputs": [
    {
     "data": {
      "text/plain": [
       "array([[0., 1., 1., ..., 0., 0., 0.],\n",
       "       [0., 1., 1., ..., 0., 0., 0.],\n",
       "       [0., 1., 1., ..., 0., 0., 0.],\n",
       "       ...,\n",
       "       [0., 1., 1., ..., 0., 0., 0.],\n",
       "       [0., 1., 1., ..., 0., 0., 0.],\n",
       "       [0., 1., 1., ..., 0., 0., 0.]])"
      ]
     },
     "execution_count": 36,
     "metadata": {},
     "output_type": "execute_result"
    }
   ],
   "source": [
    "x_train "
   ]
  },
  {
   "cell_type": "code",
   "execution_count": 17,
   "metadata": {},
   "outputs": [],
   "source": [
    "def to_one_hot(labels, dimension=46):\n",
    "    results = np.zeros((len(labels), dimension))\n",
    "    for i, label in enumerate(labels):\n",
    "        results[i, label] = 1.\n",
    "    return results\n",
    "one_hot_train_labels = to_one_hot(train_labels)\n",
    "one_hot_test_labels = to_one_hot(test_labels)"
   ]
  },
  {
   "cell_type": "code",
   "execution_count": 18,
   "metadata": {},
   "outputs": [],
   "source": [
    "from keras.utils.np_utils import to_categorical\n",
    "one_hot_train_labels = to_categorical(train_labels)\n",
    "one_hot_test_labels = to_categorical(test_labels)"
   ]
  },
  {
   "cell_type": "markdown",
   "metadata": {},
   "source": [
    "# Model definition"
   ]
  },
  {
   "cell_type": "code",
   "execution_count": 19,
   "metadata": {},
   "outputs": [],
   "source": [
    "from keras import models\n",
    "from keras import layers\n",
    "model = models.Sequential()\n",
    "model.add(layers.Dense(64, activation='relu', input_shape=(10000,)))\n",
    "model.add(layers.Dense(64, activation='relu'))\n",
    "model.add(layers.Dense(46, activation='softmax'))"
   ]
  },
  {
   "cell_type": "markdown",
   "metadata": {},
   "source": [
    "# Compiling the model"
   ]
  },
  {
   "cell_type": "code",
   "execution_count": 20,
   "metadata": {},
   "outputs": [],
   "source": [
    "model.compile(optimizer='rmsprop',\n",
    "loss='categorical_crossentropy',\n",
    "metrics=['accuracy'])"
   ]
  },
  {
   "cell_type": "markdown",
   "metadata": {},
   "source": [
    "# Setting aside a validation set"
   ]
  },
  {
   "cell_type": "code",
   "execution_count": 21,
   "metadata": {},
   "outputs": [],
   "source": [
    "x_val = x_train[:1000]\n",
    "partial_x_train = x_train[1000:]\n",
    "y_val = one_hot_train_labels[:1000]\n",
    "partial_y_train = one_hot_train_labels[1000:]"
   ]
  },
  {
   "cell_type": "markdown",
   "metadata": {},
   "source": [
    "# Training the model"
   ]
  },
  {
   "cell_type": "code",
   "execution_count": 22,
   "metadata": {},
   "outputs": [
    {
     "name": "stdout",
     "output_type": "stream",
     "text": [
      "WARNING:tensorflow:From C:\\ProgramData\\Anaconda3\\lib\\site-packages\\keras\\backend\\tensorflow_backend.py:422: The name tf.global_variables is deprecated. Please use tf.compat.v1.global_variables instead.\n",
      "\n",
      "Train on 7982 samples, validate on 1000 samples\n",
      "Epoch 1/20\n",
      "7982/7982 [==============================] - 4s 492us/step - loss: 2.6491 - accuracy: 0.5289 - val_loss: 1.7521 - val_accuracy: 0.6250\n",
      "Epoch 2/20\n",
      "7982/7982 [==============================] - 2s 281us/step - loss: 1.4305 - accuracy: 0.7033 - val_loss: 1.3229 - val_accuracy: 0.7060\n",
      "Epoch 3/20\n",
      "7982/7982 [==============================] - 2s 304us/step - loss: 1.0592 - accuracy: 0.7751 - val_loss: 1.1548 - val_accuracy: 0.7560\n",
      "Epoch 4/20\n",
      "7982/7982 [==============================] - 2s 301us/step - loss: 0.8390 - accuracy: 0.8205 - val_loss: 1.0681 - val_accuracy: 0.7730\n",
      "Epoch 5/20\n",
      "7982/7982 [==============================] - 2s 292us/step - loss: 0.6671 - accuracy: 0.8574 - val_loss: 1.0125 - val_accuracy: 0.7890\n",
      "Epoch 6/20\n",
      "7982/7982 [==============================] - 2s 306us/step - loss: 0.5389 - accuracy: 0.8844 - val_loss: 0.9760 - val_accuracy: 0.7920\n",
      "Epoch 7/20\n",
      "7982/7982 [==============================] - 2s 311us/step - loss: 0.4384 - accuracy: 0.9062 - val_loss: 0.9365 - val_accuracy: 0.8020\n",
      "Epoch 8/20\n",
      "7982/7982 [==============================] - 3s 338us/step - loss: 0.3551 - accuracy: 0.9225 - val_loss: 0.9259 - val_accuracy: 0.8100\n",
      "Epoch 9/20\n",
      "7982/7982 [==============================] - 3s 338us/step - loss: 0.2971 - accuracy: 0.9345 - val_loss: 0.9613 - val_accuracy: 0.8040\n",
      "Epoch 10/20\n",
      "7982/7982 [==============================] - 2s 310us/step - loss: 0.2510 - accuracy: 0.9440 - val_loss: 0.9296 - val_accuracy: 0.8090\n",
      "Epoch 11/20\n",
      "7982/7982 [==============================] - 2s 269us/step - loss: 0.2210 - accuracy: 0.9478 - val_loss: 0.9462 - val_accuracy: 0.8190\n",
      "Epoch 12/20\n",
      "7982/7982 [==============================] - 2s 292us/step - loss: 0.1932 - accuracy: 0.9495 - val_loss: 0.9982 - val_accuracy: 0.8000\n",
      "Epoch 13/20\n",
      "7982/7982 [==============================] - 2s 283us/step - loss: 0.1711 - accuracy: 0.9534 - val_loss: 0.9634 - val_accuracy: 0.8120\n",
      "Epoch 14/20\n",
      "7982/7982 [==============================] - 2s 275us/step - loss: 0.1582 - accuracy: 0.9535 - val_loss: 0.9916 - val_accuracy: 0.8160\n",
      "Epoch 15/20\n",
      "7982/7982 [==============================] - 2s 273us/step - loss: 0.1459 - accuracy: 0.9544 - val_loss: 1.0064 - val_accuracy: 0.8140\n",
      "Epoch 16/20\n",
      "7982/7982 [==============================] - 2s 270us/step - loss: 0.1333 - accuracy: 0.9580 - val_loss: 1.1519 - val_accuracy: 0.7810\n",
      "Epoch 17/20\n",
      "7982/7982 [==============================] - 2s 272us/step - loss: 0.1368 - accuracy: 0.9557 - val_loss: 1.0034 - val_accuracy: 0.8180\n",
      "Epoch 18/20\n",
      "7982/7982 [==============================] - 2s 268us/step - loss: 0.1195 - accuracy: 0.9578 - val_loss: 1.0776 - val_accuracy: 0.8050\n",
      "Epoch 19/20\n",
      "7982/7982 [==============================] - 2s 305us/step - loss: 0.1169 - accuracy: 0.9573 - val_loss: 1.0710 - val_accuracy: 0.8090\n",
      "Epoch 20/20\n",
      "7982/7982 [==============================] - 2s 283us/step - loss: 0.1171 - accuracy: 0.9563 - val_loss: 1.0720 - val_accuracy: 0.8150\n"
     ]
    }
   ],
   "source": [
    "history = model.fit(partial_x_train,\n",
    "partial_y_train,\n",
    "epochs=20,\n",
    "batch_size=512,\n",
    "validation_data=(x_val, y_val))"
   ]
  },
  {
   "cell_type": "markdown",
   "metadata": {},
   "source": [
    "# Plotting the training and validation loss"
   ]
  },
  {
   "cell_type": "code",
   "execution_count": 24,
   "metadata": {},
   "outputs": [
    {
     "data": {
      "image/png": "[encoded data removed]",
      "text/plain": [
       "<Figure size 432x288 with 1 Axes>"
      ]
     },
     "metadata": {
      "needs_background": "light"
     },
     "output_type": "display_data"
    }
   ],
   "source": [
    "import matplotlib.pyplot as plt\n",
    "loss = history.history['loss']\n",
    "val_loss = history.history['val_loss']\n",
    "epochs = range(1, len(loss) + 1)\n",
    "plt.plot(epochs, loss, 'bo', label='Training loss')\n",
    "plt.plot(epochs, val_loss, 'b', label='Validation loss')\n",
    "plt.title('Training and validation loss')\n",
    "plt.xlabel('Epochs')\n",
    "plt.ylabel('Loss')\n",
    "plt.legend()\n",
    "plt.show()"
   ]
  },
  {
   "cell_type": "markdown",
   "metadata": {},
   "source": [
    "# Listing 3.20 Plotting the training and validation accuracy"
   ]
  },
  {
   "cell_type": "code",
   "execution_count": 27,
   "metadata": {},
   "outputs": [
    {
     "data": {
      "image/png": "[encoded data removed]",
      "text/plain": [
       "<Figure size 432x288 with 1 Axes>"
      ]
     },
     "metadata": {
      "needs_background": "light"
     },
     "output_type": "display_data"
    }
   ],
   "source": [
    "plt.clf()\n",
    "acc = history.history['accuracy']\n",
    "val_acc = history.history['val_accuracy']\n",
    "plt.plot(epochs, acc, 'bo', label='Training acc')\n",
    "plt.plot(epochs, val_acc, 'b', label='Validation acc')\n",
    "plt.title('Training and validation accuracy')\n",
    "plt.xlabel('Epochs')\n",
    "plt.ylabel('Loss')\n",
    "plt.legend()\n",
    "plt.show()"
   ]
  },
  {
   "cell_type": "markdown",
   "metadata": {},
   "source": [
    "# Retraining a model from scratch"
   ]
  },
  {
   "cell_type": "code",
   "execution_count": 28,
   "metadata": {},
   "outputs": [
    {
     "name": "stdout",
     "output_type": "stream",
     "text": [
      "Train on 7982 samples, validate on 1000 samples\n",
      "Epoch 1/9\n",
      "7982/7982 [==============================] - 3s 407us/step - loss: 2.7283 - accuracy: 0.5417 - val_loss: 1.8525 - val_accuracy: 0.6450\n",
      "Epoch 2/9\n",
      "7982/7982 [==============================] - 2s 302us/step - loss: 1.4485 - accuracy: 0.7169 - val_loss: 1.3235 - val_accuracy: 0.7170\n",
      "Epoch 3/9\n",
      "7982/7982 [==============================] - 2s 298us/step - loss: 1.0337 - accuracy: 0.7769 - val_loss: 1.1182 - val_accuracy: 0.7560\n",
      "Epoch 4/9\n",
      "7982/7982 [==============================] - 2s 297us/step - loss: 0.8061 - accuracy: 0.8270 - val_loss: 1.0105 - val_accuracy: 0.7870\n",
      "Epoch 5/9\n",
      "7982/7982 [==============================] - 3s 325us/step - loss: 0.6392 - accuracy: 0.8662 - val_loss: 0.9534 - val_accuracy: 0.7970\n",
      "Epoch 6/9\n",
      "7982/7982 [==============================] - 3s 397us/step - loss: 0.5095 - accuracy: 0.8943 - val_loss: 0.9391 - val_accuracy: 0.8080\n",
      "Epoch 7/9\n",
      "7982/7982 [==============================] - 2s 290us/step - loss: 0.4117 - accuracy: 0.9147 - val_loss: 0.8915 - val_accuracy: 0.8220\n",
      "Epoch 8/9\n",
      "7982/7982 [==============================] - 3s 357us/step - loss: 0.3314 - accuracy: 0.9308 - val_loss: 0.9002 - val_accuracy: 0.8180\n",
      "Epoch 9/9\n",
      "7982/7982 [==============================] - 3s 359us/step - loss: 0.2768 - accuracy: 0.9384 - val_loss: 0.8827 - val_accuracy: 0.8160\n",
      "2246/2246 [==============================] - 1s 423us/step\n"
     ]
    }
   ],
   "source": [
    "model = models.Sequential()\n",
    "model.add(layers.Dense(64, activation='relu', input_shape=(10000,)))\n",
    "model.add(layers.Dense(64, activation='relu'))\n",
    "model.add(layers.Dense(46, activation='softmax'))\n",
    "model.compile(optimizer='rmsprop',\n",
    "loss='categorical_crossentropy',\n",
    "metrics=['accuracy'])\n",
    "model.fit(partial_x_train,\n",
    "partial_y_train,\n",
    "epochs=9,\n",
    "batch_size=512,\n",
    "validation_data=(x_val, y_val))\n",
    "results = model.evaluate(x_test, one_hot_test_labels)"
   ]
  },
  {
   "cell_type": "code",
   "execution_count": 29,
   "metadata": {},
   "outputs": [
    {
     "data": {
      "text/plain": [
       "[0.9861427540239859, 0.7849510312080383]"
      ]
     },
     "execution_count": 29,
     "metadata": {},
     "output_type": "execute_result"
    }
   ],
   "source": [
    " results"
   ]
  },
  {
   "cell_type": "code",
   "execution_count": 30,
   "metadata": {},
   "outputs": [
    {
     "data": {
      "text/plain": [
       "0.19278717720391808"
      ]
     },
     "execution_count": 30,
     "metadata": {},
     "output_type": "execute_result"
    }
   ],
   "source": [
    "import copy\n",
    "test_labels_copy = copy.copy(test_labels)\n",
    "np.random.shuffle(test_labels_copy)\n",
    "hits_array = np.array(test_labels) == np.array(test_labels_copy)\n",
    "float(np.sum(hits_array)) / len(test_labels)"
   ]
  },
  {
   "cell_type": "markdown",
   "metadata": {},
   "source": [
    "# Generating predictions for new data"
   ]
  },
  {
   "cell_type": "code",
   "execution_count": 31,
   "metadata": {},
   "outputs": [],
   "source": [
    "predictions = model.predict(x_test)"
   ]
  },
  {
   "cell_type": "code",
   "execution_count": 50,
   "metadata": {},
   "outputs": [
    {
     "data": {
      "text/plain": [
       "array([1.2151333e-04, 8.2506733e-05, 9.9083882e-06, 6.8798846e-01,\n",
       "       2.9180202e-01, 1.5397539e-04, 9.6131052e-06, 1.3136255e-04,\n",
       "       2.9562963e-03, 7.8806939e-04, 2.1646338e-04, 9.4597554e-04,\n",
       "       7.8110592e-05, 1.2603676e-04, 7.4782351e-05, 4.0523511e-05,\n",
       "       9.4575773e-04, 9.8372213e-05, 2.9382232e-05, 6.3090422e-04,\n",
       "       5.4105343e-03, 4.5577241e-03, 2.6888750e-04, 4.0297079e-04,\n",
       "       1.9437786e-04, 7.6060103e-05, 1.1762216e-05, 1.9359188e-05,\n",
       "       1.7381604e-05, 4.1603675e-05, 9.8645411e-05, 6.2860124e-04,\n",
       "       1.2722125e-05, 3.5922303e-06, 2.9736222e-04, 7.9751553e-06,\n",
       "       1.3510078e-04, 1.9886797e-05, 6.1390216e-05, 2.7440127e-04,\n",
       "       5.2638006e-06, 4.3031641e-06, 4.0350301e-06, 2.0301552e-05,\n",
       "       2.3593373e-05, 1.7210793e-04], dtype=float32)"
      ]
     },
     "execution_count": 50,
     "metadata": {},
     "output_type": "execute_result"
    }
   ],
   "source": [
    "predictions[0]\n"
   ]
  },
  {
   "cell_type": "code",
   "execution_count": 32,
   "metadata": {},
   "outputs": [
    {
     "data": {
      "text/plain": [
       "(46,)"
      ]
     },
     "execution_count": 32,
     "metadata": {},
     "output_type": "execute_result"
    }
   ],
   "source": [
    "predictions[0].shape"
   ]
  },
  {
   "cell_type": "code",
   "execution_count": 46,
   "metadata": {},
   "outputs": [
    {
     "data": {
      "text/plain": [
       "1.0"
      ]
     },
     "execution_count": 46,
     "metadata": {},
     "output_type": "execute_result"
    }
   ],
   "source": [
    " np.sum(predictions[0])"
   ]
  },
  {
   "cell_type": "code",
   "execution_count": 35,
   "metadata": {},
   "outputs": [
    {
     "data": {
      "text/plain": [
       "3"
      ]
     },
     "execution_count": 35,
     "metadata": {},
     "output_type": "execute_result"
    }
   ],
   "source": [
    "np.argmax(predictions[0])"
   ]
  },
  {
   "cell_type": "markdown",
   "metadata": {},
   "source": [
    "# A different way to handle the labels and the loss"
   ]
  },
  {
   "cell_type": "code",
   "execution_count": 51,
   "metadata": {},
   "outputs": [],
   "source": [
    "y_train = np.array(train_labels)\n",
    "y_test = np.array(test_labels)"
   ]
  },
  {
   "cell_type": "code",
   "execution_count": 54,
   "metadata": {},
   "outputs": [
    {
     "data": {
      "text/plain": [
       "2246"
      ]
     },
     "execution_count": 54,
     "metadata": {},
     "output_type": "execute_result"
    }
   ],
   "source": [
    "len(y_test)"
   ]
  },
  {
   "cell_type": "code",
   "execution_count": 55,
   "metadata": {},
   "outputs": [],
   "source": [
    "model.compile(optimizer='rmsprop',\n",
    "loss='sparse_categorical_crossentropy',\n",
    "metrics=['acc'])"
   ]
  },
  {
   "cell_type": "markdown",
   "metadata": {},
   "source": [
    "# A model with an information bottleneck"
   ]
  },
  {
   "cell_type": "code",
   "execution_count": 56,
   "metadata": {},
   "outputs": [
    {
     "name": "stdout",
     "output_type": "stream",
     "text": [
      "Train on 7982 samples, validate on 1000 samples\n",
      "Epoch 1/20\n",
      "7982/7982 [==============================] - 4s 555us/step - loss: 2.7172 - accuracy: 0.3539 - val_loss: 1.8966 - val_accuracy: 0.6170\n",
      "Epoch 2/20\n",
      "7982/7982 [==============================] - 3s 354us/step - loss: 1.5899 - accuracy: 0.6492 - val_loss: 1.4458 - val_accuracy: 0.6500\n",
      "Epoch 3/20\n",
      "7982/7982 [==============================] - 3s 339us/step - loss: 1.2591 - accuracy: 0.6862 - val_loss: 1.3202 - val_accuracy: 0.6730\n",
      "Epoch 4/20\n",
      "7982/7982 [==============================] - 3s 359us/step - loss: 1.0952 - accuracy: 0.7238 - val_loss: 1.2779 - val_accuracy: 0.6970\n",
      "Epoch 5/20\n",
      "7982/7982 [==============================] - 3s 346us/step - loss: 0.9812 - accuracy: 0.7533 - val_loss: 1.2695 - val_accuracy: 0.6940\n",
      "Epoch 6/20\n",
      "7982/7982 [==============================] - 3s 356us/step - loss: 0.8921 - accuracy: 0.7766 - val_loss: 1.2527 - val_accuracy: 0.7020\n",
      "Epoch 7/20\n",
      "7982/7982 [==============================] - 3s 345us/step - loss: 0.8141 - accuracy: 0.7920 - val_loss: 1.2779 - val_accuracy: 0.7030\n",
      "Epoch 8/20\n",
      "7982/7982 [==============================] - 3s 350us/step - loss: 0.7489 - accuracy: 0.8029 - val_loss: 1.3012 - val_accuracy: 0.7020\n",
      "Epoch 9/20\n",
      "7982/7982 [==============================] - 3s 362us/step - loss: 0.6917 - accuracy: 0.8197 - val_loss: 1.3201 - val_accuracy: 0.7100\n",
      "Epoch 10/20\n",
      "7982/7982 [==============================] - 3s 398us/step - loss: 0.6408 - accuracy: 0.8325 - val_loss: 1.3411 - val_accuracy: 0.7170\n",
      "Epoch 11/20\n",
      "7982/7982 [==============================] - 3s 328us/step - loss: 0.5993 - accuracy: 0.8425 - val_loss: 1.3687 - val_accuracy: 0.7140\n",
      "Epoch 12/20\n",
      "7982/7982 [==============================] - 3s 328us/step - loss: 0.5618 - accuracy: 0.8498 - val_loss: 1.4191 - val_accuracy: 0.7180\n",
      "Epoch 13/20\n",
      "7982/7982 [==============================] - 3s 339us/step - loss: 0.5288 - accuracy: 0.8561 - val_loss: 1.4274 - val_accuracy: 0.7210\n",
      "Epoch 14/20\n",
      "7982/7982 [==============================] - 3s 330us/step - loss: 0.4984 - accuracy: 0.8626 - val_loss: 1.5003 - val_accuracy: 0.7200\n",
      "Epoch 15/20\n",
      "7982/7982 [==============================] - 3s 335us/step - loss: 0.4742 - accuracy: 0.8702 - val_loss: 1.5538 - val_accuracy: 0.7170\n",
      "Epoch 16/20\n",
      "7982/7982 [==============================] - 3s 355us/step - loss: 0.4490 - accuracy: 0.8733 - val_loss: 1.6045 - val_accuracy: 0.7200\n",
      "Epoch 17/20\n",
      "7982/7982 [==============================] - 3s 386us/step - loss: 0.4323 - accuracy: 0.8782 - val_loss: 1.6254 - val_accuracy: 0.7090\n",
      "Epoch 18/20\n",
      "7982/7982 [==============================] - 3s 324us/step - loss: 0.4117 - accuracy: 0.8834 - val_loss: 1.6706 - val_accuracy: 0.7170\n",
      "Epoch 19/20\n",
      "7982/7982 [==============================] - 3s 325us/step - loss: 0.3975 - accuracy: 0.8839 - val_loss: 1.6993 - val_accuracy: 0.7150\n",
      "Epoch 20/20\n",
      "7982/7982 [==============================] - 3s 329us/step - loss: 0.3837 - accuracy: 0.8881 - val_loss: 1.7713 - val_accuracy: 0.7130\n"
     ]
    },
    {
     "data": {
      "text/plain": [
       "<keras.callbacks.callbacks.History at 0x25629f155c0>"
      ]
     },
     "execution_count": 56,
     "metadata": {},
     "output_type": "execute_result"
    }
   ],
   "source": [
    "model = models.Sequential()\n",
    "model.add(layers.Dense(64, activation='relu', input_shape=(10000,)))\n",
    "model.add(layers.Dense(4, activation='relu'))\n",
    "model.add(layers.Dense(46, activation='softmax'))\n",
    "model.compile(optimizer='rmsprop',\n",
    "loss='categorical_crossentropy',\n",
    "metrics=['accuracy'])\n",
    "model.fit(partial_x_train,\n",
    "partial_y_train,\n",
    "epochs=20,\n",
    "batch_size=128,\n",
    "validation_data=(x_val, y_val))"
   ]
  },
  {
   "cell_type": "code",
   "execution_count": null,
   "metadata": {},
   "outputs": [],
   "source": []
  }
 ],
 "metadata": {
  "kernelspec": {
   "display_name": "Python 3",
   "language": "python",
   "name": "python3"
  },
  "language_info": {
   "codemirror_mode": {
    "name": "ipython",
    "version": 3
   },
   "file_extension": ".py",
   "mimetype": "text/x-python",
   "name": "python",
   "nbconvert_exporter": "python",
   "pygments_lexer": "ipython3",
   "version": "3.7.3"
  }
 },
 "nbformat": 4,
 "nbformat_minor": 2
}
